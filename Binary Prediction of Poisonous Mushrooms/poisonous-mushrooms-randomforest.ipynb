{
 "cells": [
  {
   "cell_type": "markdown",
   "id": "866e3e4e",
   "metadata": {
    "_cell_guid": "b1076dfc-b9ad-4769-8c92-a6c4dae69d19",
    "_uuid": "8f2839f25d086af736a60e9eeb907d3b93b6e0e5",
    "execution": {
     "iopub.execute_input": "2024-08-08T15:42:22.491875Z",
     "iopub.status.busy": "2024-08-08T15:42:22.491442Z",
     "iopub.status.idle": "2024-08-08T15:42:23.597038Z",
     "shell.execute_reply": "2024-08-08T15:42:23.595708Z",
     "shell.execute_reply.started": "2024-08-08T15:42:22.491841Z"
    },
    "papermill": {
     "duration": 0.011865,
     "end_time": "2024-08-08T16:10:33.331071",
     "exception": false,
     "start_time": "2024-08-08T16:10:33.319206",
     "status": "completed"
    },
    "tags": []
   },
   "source": [
    "*** \n",
    "<center><img src=\"https://encrypted-tbn0.gstatic.com/images?q=tbn:ANd9GcSfD2jKSwa3TCrCgwfS8HzZgGY_YIS_wKUoHw&s\" width=100 height=100 /></center>\n",
    "<h1><center>Binary Prediction of Poisonous Mushrooms</center></h1>\n",
    "\n",
    "**About the Dataset:**\n",
    "\n",
    "\"The dataset for this competition (both train and test) was generated from a deep learning model trained on the UCI Mushroom dataset. Feature distributions are close to, but not exactly the same, as the original. Feel free to use the original dataset as part of this competition, both to explore differences as well as to see whether incorporating the original in training improves model performance\".\n",
    "\n",
    "**Goal:**\n",
    "\n",
    "\"The goal of this competition is to predict whether a mushroom is edible or poisonous based on its physical characteristics\".\n",
    "\n",
    "**Evaluation** \n",
    "\"Submissions are evaluated using the Matthews correlation coefficient (MCC)\".\n",
    "***"
   ]
  },
  {
   "cell_type": "code",
   "execution_count": 1,
   "id": "6b7dbd86",
   "metadata": {
    "execution": {
     "iopub.execute_input": "2024-08-08T16:10:33.356466Z",
     "iopub.status.busy": "2024-08-08T16:10:33.356026Z",
     "iopub.status.idle": "2024-08-08T16:10:34.331344Z",
     "shell.execute_reply": "2024-08-08T16:10:34.329932Z"
    },
    "papermill": {
     "duration": 0.991281,
     "end_time": "2024-08-08T16:10:34.334058",
     "exception": false,
     "start_time": "2024-08-08T16:10:33.342777",
     "status": "completed"
    },
    "tags": []
   },
   "outputs": [
    {
     "name": "stdout",
     "output_type": "stream",
     "text": [
      "/kaggle/input/playground-series-s4e8/sample_submission.csv\n",
      "/kaggle/input/playground-series-s4e8/train.csv\n",
      "/kaggle/input/playground-series-s4e8/test.csv\n"
     ]
    }
   ],
   "source": [
    "# This Python 3 environment comes with many helpful analytics libraries installed\n",
    "# It is defined by the kaggle/python Docker image: https://github.com/kaggle/docker-python\n",
    "# For example, here's several helpful packages to load\n",
    "\n",
    "import numpy as np # linear algebra\n",
    "import pandas as pd # data processing, CSV file I/O (e.g. pd.read_csv)\n",
    "\n",
    "# Input data files are available in the read-only \"../input/\" directory\n",
    "# For example, running this (by clicking run or pressing Shift+Enter) will list all files under the input directory\n",
    "\n",
    "import os\n",
    "for dirname, _, filenames in os.walk('/kaggle/input'):\n",
    "    for filename in filenames:\n",
    "        print(os.path.join(dirname, filename))\n",
    "\n",
    "# You can write up to 20GB to the current directory (/kaggle/working/) that gets preserved as output when you create a version using \"Save & Run All\" \n",
    "# You can also write temporary files to /kaggle/temp/, but they won't be saved outside of the current session"
   ]
  },
  {
   "cell_type": "code",
   "execution_count": 2,
   "id": "27a08120",
   "metadata": {
    "execution": {
     "iopub.execute_input": "2024-08-08T16:10:34.359951Z",
     "iopub.status.busy": "2024-08-08T16:10:34.359396Z",
     "iopub.status.idle": "2024-08-08T16:10:36.519486Z",
     "shell.execute_reply": "2024-08-08T16:10:36.518276Z"
    },
    "papermill": {
     "duration": 2.176241,
     "end_time": "2024-08-08T16:10:36.522284",
     "exception": false,
     "start_time": "2024-08-08T16:10:34.346043",
     "status": "completed"
    },
    "tags": []
   },
   "outputs": [],
   "source": [
    "import warnings\n",
    "warnings.filterwarnings('ignore')\n",
    "import seaborn as sns\n",
    "import matplotlib.pyplot as plt\n",
    "from sklearn.metrics import matthews_corrcoef\n",
    "from sklearn.preprocessing import LabelEncoder\n",
    "from sklearn.ensemble import RandomForestClassifier\n",
    "from sklearn.model_selection import train_test_split"
   ]
  },
  {
   "cell_type": "markdown",
   "id": "c473edfc",
   "metadata": {
    "papermill": {
     "duration": 0.011402,
     "end_time": "2024-08-08T16:10:36.545658",
     "exception": false,
     "start_time": "2024-08-08T16:10:36.534256",
     "status": "completed"
    },
    "tags": []
   },
   "source": [
    "# Import Data"
   ]
  },
  {
   "cell_type": "code",
   "execution_count": 3,
   "id": "4857d4e5",
   "metadata": {
    "execution": {
     "iopub.execute_input": "2024-08-08T16:10:36.571044Z",
     "iopub.status.busy": "2024-08-08T16:10:36.570628Z",
     "iopub.status.idle": "2024-08-08T16:10:55.633872Z",
     "shell.execute_reply": "2024-08-08T16:10:55.632842Z"
    },
    "papermill": {
     "duration": 19.078992,
     "end_time": "2024-08-08T16:10:55.636662",
     "exception": false,
     "start_time": "2024-08-08T16:10:36.557670",
     "status": "completed"
    },
    "tags": []
   },
   "outputs": [],
   "source": [
    "train=pd.read_csv(\"/kaggle/input/playground-series-s4e8/train.csv\", index_col=0)\n",
    "test=pd.read_csv(\"/kaggle/input/playground-series-s4e8/test.csv\", index_col=0)"
   ]
  },
  {
   "cell_type": "markdown",
   "id": "29ab24a8",
   "metadata": {
    "papermill": {
     "duration": 0.011398,
     "end_time": "2024-08-08T16:10:55.659952",
     "exception": false,
     "start_time": "2024-08-08T16:10:55.648554",
     "status": "completed"
    },
    "tags": []
   },
   "source": [
    "# Gather Basic Information"
   ]
  },
  {
   "cell_type": "code",
   "execution_count": 4,
   "id": "19e94dcf",
   "metadata": {
    "execution": {
     "iopub.execute_input": "2024-08-08T16:10:55.685340Z",
     "iopub.status.busy": "2024-08-08T16:10:55.684943Z",
     "iopub.status.idle": "2024-08-08T16:10:55.690627Z",
     "shell.execute_reply": "2024-08-08T16:10:55.689523Z"
    },
    "papermill": {
     "duration": 0.02166,
     "end_time": "2024-08-08T16:10:55.693593",
     "exception": false,
     "start_time": "2024-08-08T16:10:55.671933",
     "status": "completed"
    },
    "tags": []
   },
   "outputs": [
    {
     "name": "stdout",
     "output_type": "stream",
     "text": [
      "Training Set\n",
      "Rows: 3116945 | Cols: 21\n",
      "\n",
      "Testing Set\n",
      "Rows: 2077964 | Cols: 20\n"
     ]
    }
   ],
   "source": [
    "print(f'Training Set\\nRows: {train.shape[0]} | Cols: {train.shape[1]}\\n') \n",
    "\n",
    "print(f'Testing Set\\nRows: {test.shape[0]} | Cols: {test.shape[1]}')"
   ]
  },
  {
   "cell_type": "code",
   "execution_count": 5,
   "id": "3811a416",
   "metadata": {
    "execution": {
     "iopub.execute_input": "2024-08-08T16:10:55.719697Z",
     "iopub.status.busy": "2024-08-08T16:10:55.719296Z",
     "iopub.status.idle": "2024-08-08T16:10:55.758622Z",
     "shell.execute_reply": "2024-08-08T16:10:55.757557Z"
    },
    "papermill": {
     "duration": 0.054824,
     "end_time": "2024-08-08T16:10:55.761025",
     "exception": false,
     "start_time": "2024-08-08T16:10:55.706201",
     "status": "completed"
    },
    "tags": []
   },
   "outputs": [
    {
     "data": {
      "text/html": [
       "<div>\n",
       "<style scoped>\n",
       "    .dataframe tbody tr th:only-of-type {\n",
       "        vertical-align: middle;\n",
       "    }\n",
       "\n",
       "    .dataframe tbody tr th {\n",
       "        vertical-align: top;\n",
       "    }\n",
       "\n",
       "    .dataframe thead th {\n",
       "        text-align: right;\n",
       "    }\n",
       "</style>\n",
       "<table border=\"1\" class=\"dataframe\">\n",
       "  <thead>\n",
       "    <tr style=\"text-align: right;\">\n",
       "      <th></th>\n",
       "      <th>class</th>\n",
       "      <th>cap-diameter</th>\n",
       "      <th>cap-shape</th>\n",
       "      <th>cap-surface</th>\n",
       "      <th>cap-color</th>\n",
       "      <th>does-bruise-or-bleed</th>\n",
       "      <th>gill-attachment</th>\n",
       "      <th>gill-spacing</th>\n",
       "      <th>gill-color</th>\n",
       "      <th>stem-height</th>\n",
       "      <th>...</th>\n",
       "      <th>stem-root</th>\n",
       "      <th>stem-surface</th>\n",
       "      <th>stem-color</th>\n",
       "      <th>veil-type</th>\n",
       "      <th>veil-color</th>\n",
       "      <th>has-ring</th>\n",
       "      <th>ring-type</th>\n",
       "      <th>spore-print-color</th>\n",
       "      <th>habitat</th>\n",
       "      <th>season</th>\n",
       "    </tr>\n",
       "    <tr>\n",
       "      <th>id</th>\n",
       "      <th></th>\n",
       "      <th></th>\n",
       "      <th></th>\n",
       "      <th></th>\n",
       "      <th></th>\n",
       "      <th></th>\n",
       "      <th></th>\n",
       "      <th></th>\n",
       "      <th></th>\n",
       "      <th></th>\n",
       "      <th></th>\n",
       "      <th></th>\n",
       "      <th></th>\n",
       "      <th></th>\n",
       "      <th></th>\n",
       "      <th></th>\n",
       "      <th></th>\n",
       "      <th></th>\n",
       "      <th></th>\n",
       "      <th></th>\n",
       "      <th></th>\n",
       "    </tr>\n",
       "  </thead>\n",
       "  <tbody>\n",
       "    <tr>\n",
       "      <th>0</th>\n",
       "      <td>e</td>\n",
       "      <td>8.80</td>\n",
       "      <td>f</td>\n",
       "      <td>s</td>\n",
       "      <td>u</td>\n",
       "      <td>f</td>\n",
       "      <td>a</td>\n",
       "      <td>c</td>\n",
       "      <td>w</td>\n",
       "      <td>4.51</td>\n",
       "      <td>...</td>\n",
       "      <td>NaN</td>\n",
       "      <td>NaN</td>\n",
       "      <td>w</td>\n",
       "      <td>NaN</td>\n",
       "      <td>NaN</td>\n",
       "      <td>f</td>\n",
       "      <td>f</td>\n",
       "      <td>NaN</td>\n",
       "      <td>d</td>\n",
       "      <td>a</td>\n",
       "    </tr>\n",
       "    <tr>\n",
       "      <th>1</th>\n",
       "      <td>p</td>\n",
       "      <td>4.51</td>\n",
       "      <td>x</td>\n",
       "      <td>h</td>\n",
       "      <td>o</td>\n",
       "      <td>f</td>\n",
       "      <td>a</td>\n",
       "      <td>c</td>\n",
       "      <td>n</td>\n",
       "      <td>4.79</td>\n",
       "      <td>...</td>\n",
       "      <td>NaN</td>\n",
       "      <td>y</td>\n",
       "      <td>o</td>\n",
       "      <td>NaN</td>\n",
       "      <td>NaN</td>\n",
       "      <td>t</td>\n",
       "      <td>z</td>\n",
       "      <td>NaN</td>\n",
       "      <td>d</td>\n",
       "      <td>w</td>\n",
       "    </tr>\n",
       "    <tr>\n",
       "      <th>2</th>\n",
       "      <td>e</td>\n",
       "      <td>6.94</td>\n",
       "      <td>f</td>\n",
       "      <td>s</td>\n",
       "      <td>b</td>\n",
       "      <td>f</td>\n",
       "      <td>x</td>\n",
       "      <td>c</td>\n",
       "      <td>w</td>\n",
       "      <td>6.85</td>\n",
       "      <td>...</td>\n",
       "      <td>NaN</td>\n",
       "      <td>s</td>\n",
       "      <td>n</td>\n",
       "      <td>NaN</td>\n",
       "      <td>NaN</td>\n",
       "      <td>f</td>\n",
       "      <td>f</td>\n",
       "      <td>NaN</td>\n",
       "      <td>l</td>\n",
       "      <td>w</td>\n",
       "    </tr>\n",
       "    <tr>\n",
       "      <th>3</th>\n",
       "      <td>e</td>\n",
       "      <td>3.88</td>\n",
       "      <td>f</td>\n",
       "      <td>y</td>\n",
       "      <td>g</td>\n",
       "      <td>f</td>\n",
       "      <td>s</td>\n",
       "      <td>NaN</td>\n",
       "      <td>g</td>\n",
       "      <td>4.16</td>\n",
       "      <td>...</td>\n",
       "      <td>NaN</td>\n",
       "      <td>NaN</td>\n",
       "      <td>w</td>\n",
       "      <td>NaN</td>\n",
       "      <td>NaN</td>\n",
       "      <td>f</td>\n",
       "      <td>f</td>\n",
       "      <td>NaN</td>\n",
       "      <td>d</td>\n",
       "      <td>u</td>\n",
       "    </tr>\n",
       "    <tr>\n",
       "      <th>4</th>\n",
       "      <td>e</td>\n",
       "      <td>5.85</td>\n",
       "      <td>x</td>\n",
       "      <td>l</td>\n",
       "      <td>w</td>\n",
       "      <td>f</td>\n",
       "      <td>d</td>\n",
       "      <td>NaN</td>\n",
       "      <td>w</td>\n",
       "      <td>3.37</td>\n",
       "      <td>...</td>\n",
       "      <td>NaN</td>\n",
       "      <td>NaN</td>\n",
       "      <td>w</td>\n",
       "      <td>NaN</td>\n",
       "      <td>NaN</td>\n",
       "      <td>f</td>\n",
       "      <td>f</td>\n",
       "      <td>NaN</td>\n",
       "      <td>g</td>\n",
       "      <td>a</td>\n",
       "    </tr>\n",
       "  </tbody>\n",
       "</table>\n",
       "<p>5 rows × 21 columns</p>\n",
       "</div>"
      ],
      "text/plain": [
       "   class  cap-diameter cap-shape cap-surface cap-color does-bruise-or-bleed  \\\n",
       "id                                                                            \n",
       "0      e          8.80         f           s         u                    f   \n",
       "1      p          4.51         x           h         o                    f   \n",
       "2      e          6.94         f           s         b                    f   \n",
       "3      e          3.88         f           y         g                    f   \n",
       "4      e          5.85         x           l         w                    f   \n",
       "\n",
       "   gill-attachment gill-spacing gill-color  stem-height  ...  stem-root  \\\n",
       "id                                                       ...              \n",
       "0                a            c          w         4.51  ...        NaN   \n",
       "1                a            c          n         4.79  ...        NaN   \n",
       "2                x            c          w         6.85  ...        NaN   \n",
       "3                s          NaN          g         4.16  ...        NaN   \n",
       "4                d          NaN          w         3.37  ...        NaN   \n",
       "\n",
       "   stem-surface stem-color veil-type veil-color has-ring ring-type  \\\n",
       "id                                                                   \n",
       "0           NaN          w       NaN        NaN        f         f   \n",
       "1             y          o       NaN        NaN        t         z   \n",
       "2             s          n       NaN        NaN        f         f   \n",
       "3           NaN          w       NaN        NaN        f         f   \n",
       "4           NaN          w       NaN        NaN        f         f   \n",
       "\n",
       "   spore-print-color habitat season  \n",
       "id                                   \n",
       "0                NaN       d      a  \n",
       "1                NaN       d      w  \n",
       "2                NaN       l      w  \n",
       "3                NaN       d      u  \n",
       "4                NaN       g      a  \n",
       "\n",
       "[5 rows x 21 columns]"
      ]
     },
     "execution_count": 5,
     "metadata": {},
     "output_type": "execute_result"
    }
   ],
   "source": [
    "train.head()"
   ]
  },
  {
   "cell_type": "code",
   "execution_count": 6,
   "id": "597853d1",
   "metadata": {
    "execution": {
     "iopub.execute_input": "2024-08-08T16:10:55.787804Z",
     "iopub.status.busy": "2024-08-08T16:10:55.787140Z",
     "iopub.status.idle": "2024-08-08T16:10:55.811727Z",
     "shell.execute_reply": "2024-08-08T16:10:55.810647Z"
    },
    "papermill": {
     "duration": 0.040935,
     "end_time": "2024-08-08T16:10:55.814365",
     "exception": false,
     "start_time": "2024-08-08T16:10:55.773430",
     "status": "completed"
    },
    "tags": []
   },
   "outputs": [
    {
     "data": {
      "text/html": [
       "<div>\n",
       "<style scoped>\n",
       "    .dataframe tbody tr th:only-of-type {\n",
       "        vertical-align: middle;\n",
       "    }\n",
       "\n",
       "    .dataframe tbody tr th {\n",
       "        vertical-align: top;\n",
       "    }\n",
       "\n",
       "    .dataframe thead th {\n",
       "        text-align: right;\n",
       "    }\n",
       "</style>\n",
       "<table border=\"1\" class=\"dataframe\">\n",
       "  <thead>\n",
       "    <tr style=\"text-align: right;\">\n",
       "      <th></th>\n",
       "      <th>cap-diameter</th>\n",
       "      <th>cap-shape</th>\n",
       "      <th>cap-surface</th>\n",
       "      <th>cap-color</th>\n",
       "      <th>does-bruise-or-bleed</th>\n",
       "      <th>gill-attachment</th>\n",
       "      <th>gill-spacing</th>\n",
       "      <th>gill-color</th>\n",
       "      <th>stem-height</th>\n",
       "      <th>stem-width</th>\n",
       "      <th>stem-root</th>\n",
       "      <th>stem-surface</th>\n",
       "      <th>stem-color</th>\n",
       "      <th>veil-type</th>\n",
       "      <th>veil-color</th>\n",
       "      <th>has-ring</th>\n",
       "      <th>ring-type</th>\n",
       "      <th>spore-print-color</th>\n",
       "      <th>habitat</th>\n",
       "      <th>season</th>\n",
       "    </tr>\n",
       "    <tr>\n",
       "      <th>id</th>\n",
       "      <th></th>\n",
       "      <th></th>\n",
       "      <th></th>\n",
       "      <th></th>\n",
       "      <th></th>\n",
       "      <th></th>\n",
       "      <th></th>\n",
       "      <th></th>\n",
       "      <th></th>\n",
       "      <th></th>\n",
       "      <th></th>\n",
       "      <th></th>\n",
       "      <th></th>\n",
       "      <th></th>\n",
       "      <th></th>\n",
       "      <th></th>\n",
       "      <th></th>\n",
       "      <th></th>\n",
       "      <th></th>\n",
       "      <th></th>\n",
       "    </tr>\n",
       "  </thead>\n",
       "  <tbody>\n",
       "    <tr>\n",
       "      <th>3116945</th>\n",
       "      <td>8.64</td>\n",
       "      <td>x</td>\n",
       "      <td>NaN</td>\n",
       "      <td>n</td>\n",
       "      <td>t</td>\n",
       "      <td>NaN</td>\n",
       "      <td>NaN</td>\n",
       "      <td>w</td>\n",
       "      <td>11.13</td>\n",
       "      <td>17.12</td>\n",
       "      <td>b</td>\n",
       "      <td>NaN</td>\n",
       "      <td>w</td>\n",
       "      <td>u</td>\n",
       "      <td>w</td>\n",
       "      <td>t</td>\n",
       "      <td>g</td>\n",
       "      <td>NaN</td>\n",
       "      <td>d</td>\n",
       "      <td>a</td>\n",
       "    </tr>\n",
       "    <tr>\n",
       "      <th>3116946</th>\n",
       "      <td>6.90</td>\n",
       "      <td>o</td>\n",
       "      <td>t</td>\n",
       "      <td>o</td>\n",
       "      <td>f</td>\n",
       "      <td>NaN</td>\n",
       "      <td>c</td>\n",
       "      <td>y</td>\n",
       "      <td>1.27</td>\n",
       "      <td>10.75</td>\n",
       "      <td>NaN</td>\n",
       "      <td>NaN</td>\n",
       "      <td>n</td>\n",
       "      <td>NaN</td>\n",
       "      <td>NaN</td>\n",
       "      <td>f</td>\n",
       "      <td>f</td>\n",
       "      <td>NaN</td>\n",
       "      <td>d</td>\n",
       "      <td>a</td>\n",
       "    </tr>\n",
       "    <tr>\n",
       "      <th>3116947</th>\n",
       "      <td>2.00</td>\n",
       "      <td>b</td>\n",
       "      <td>g</td>\n",
       "      <td>n</td>\n",
       "      <td>f</td>\n",
       "      <td>NaN</td>\n",
       "      <td>c</td>\n",
       "      <td>n</td>\n",
       "      <td>6.18</td>\n",
       "      <td>3.14</td>\n",
       "      <td>NaN</td>\n",
       "      <td>NaN</td>\n",
       "      <td>n</td>\n",
       "      <td>NaN</td>\n",
       "      <td>NaN</td>\n",
       "      <td>f</td>\n",
       "      <td>f</td>\n",
       "      <td>NaN</td>\n",
       "      <td>d</td>\n",
       "      <td>s</td>\n",
       "    </tr>\n",
       "    <tr>\n",
       "      <th>3116948</th>\n",
       "      <td>3.47</td>\n",
       "      <td>x</td>\n",
       "      <td>t</td>\n",
       "      <td>n</td>\n",
       "      <td>f</td>\n",
       "      <td>s</td>\n",
       "      <td>c</td>\n",
       "      <td>n</td>\n",
       "      <td>4.98</td>\n",
       "      <td>8.51</td>\n",
       "      <td>NaN</td>\n",
       "      <td>NaN</td>\n",
       "      <td>w</td>\n",
       "      <td>NaN</td>\n",
       "      <td>n</td>\n",
       "      <td>t</td>\n",
       "      <td>z</td>\n",
       "      <td>NaN</td>\n",
       "      <td>d</td>\n",
       "      <td>u</td>\n",
       "    </tr>\n",
       "    <tr>\n",
       "      <th>3116949</th>\n",
       "      <td>6.17</td>\n",
       "      <td>x</td>\n",
       "      <td>h</td>\n",
       "      <td>y</td>\n",
       "      <td>f</td>\n",
       "      <td>p</td>\n",
       "      <td>NaN</td>\n",
       "      <td>y</td>\n",
       "      <td>6.73</td>\n",
       "      <td>13.70</td>\n",
       "      <td>NaN</td>\n",
       "      <td>NaN</td>\n",
       "      <td>y</td>\n",
       "      <td>NaN</td>\n",
       "      <td>y</td>\n",
       "      <td>t</td>\n",
       "      <td>NaN</td>\n",
       "      <td>NaN</td>\n",
       "      <td>d</td>\n",
       "      <td>u</td>\n",
       "    </tr>\n",
       "  </tbody>\n",
       "</table>\n",
       "</div>"
      ],
      "text/plain": [
       "         cap-diameter cap-shape cap-surface cap-color does-bruise-or-bleed  \\\n",
       "id                                                                           \n",
       "3116945          8.64         x         NaN         n                    t   \n",
       "3116946          6.90         o           t         o                    f   \n",
       "3116947          2.00         b           g         n                    f   \n",
       "3116948          3.47         x           t         n                    f   \n",
       "3116949          6.17         x           h         y                    f   \n",
       "\n",
       "        gill-attachment gill-spacing gill-color  stem-height  stem-width  \\\n",
       "id                                                                         \n",
       "3116945             NaN          NaN          w        11.13       17.12   \n",
       "3116946             NaN            c          y         1.27       10.75   \n",
       "3116947             NaN            c          n         6.18        3.14   \n",
       "3116948               s            c          n         4.98        8.51   \n",
       "3116949               p          NaN          y         6.73       13.70   \n",
       "\n",
       "        stem-root stem-surface stem-color veil-type veil-color has-ring  \\\n",
       "id                                                                        \n",
       "3116945         b          NaN          w         u          w        t   \n",
       "3116946       NaN          NaN          n       NaN        NaN        f   \n",
       "3116947       NaN          NaN          n       NaN        NaN        f   \n",
       "3116948       NaN          NaN          w       NaN          n        t   \n",
       "3116949       NaN          NaN          y       NaN          y        t   \n",
       "\n",
       "        ring-type spore-print-color habitat season  \n",
       "id                                                  \n",
       "3116945         g               NaN       d      a  \n",
       "3116946         f               NaN       d      a  \n",
       "3116947         f               NaN       d      s  \n",
       "3116948         z               NaN       d      u  \n",
       "3116949       NaN               NaN       d      u  "
      ]
     },
     "execution_count": 6,
     "metadata": {},
     "output_type": "execute_result"
    }
   ],
   "source": [
    "test.head()"
   ]
  },
  {
   "cell_type": "code",
   "execution_count": 7,
   "id": "2602bf1f",
   "metadata": {
    "execution": {
     "iopub.execute_input": "2024-08-08T16:10:55.841609Z",
     "iopub.status.busy": "2024-08-08T16:10:55.840938Z",
     "iopub.status.idle": "2024-08-08T16:10:55.863553Z",
     "shell.execute_reply": "2024-08-08T16:10:55.862213Z"
    },
    "papermill": {
     "duration": 0.038892,
     "end_time": "2024-08-08T16:10:55.865967",
     "exception": false,
     "start_time": "2024-08-08T16:10:55.827075",
     "status": "completed"
    },
    "tags": []
   },
   "outputs": [
    {
     "name": "stdout",
     "output_type": "stream",
     "text": [
      "<class 'pandas.core.frame.DataFrame'>\n",
      "Index: 3116945 entries, 0 to 3116944\n",
      "Data columns (total 21 columns):\n",
      " #   Column                Dtype  \n",
      "---  ------                -----  \n",
      " 0   class                 object \n",
      " 1   cap-diameter          float64\n",
      " 2   cap-shape             object \n",
      " 3   cap-surface           object \n",
      " 4   cap-color             object \n",
      " 5   does-bruise-or-bleed  object \n",
      " 6   gill-attachment       object \n",
      " 7   gill-spacing          object \n",
      " 8   gill-color            object \n",
      " 9   stem-height           float64\n",
      " 10  stem-width            float64\n",
      " 11  stem-root             object \n",
      " 12  stem-surface          object \n",
      " 13  stem-color            object \n",
      " 14  veil-type             object \n",
      " 15  veil-color            object \n",
      " 16  has-ring              object \n",
      " 17  ring-type             object \n",
      " 18  spore-print-color     object \n",
      " 19  habitat               object \n",
      " 20  season                object \n",
      "dtypes: float64(3), object(18)\n",
      "memory usage: 523.2+ MB\n"
     ]
    }
   ],
   "source": [
    "train.info()"
   ]
  },
  {
   "cell_type": "code",
   "execution_count": 8,
   "id": "4365a9be",
   "metadata": {
    "execution": {
     "iopub.execute_input": "2024-08-08T16:10:55.893391Z",
     "iopub.status.busy": "2024-08-08T16:10:55.892672Z",
     "iopub.status.idle": "2024-08-08T16:10:56.371622Z",
     "shell.execute_reply": "2024-08-08T16:10:56.370611Z"
    },
    "papermill": {
     "duration": 0.496264,
     "end_time": "2024-08-08T16:10:56.374911",
     "exception": false,
     "start_time": "2024-08-08T16:10:55.878647",
     "status": "completed"
    },
    "tags": []
   },
   "outputs": [
    {
     "data": {
      "text/html": [
       "<div>\n",
       "<style scoped>\n",
       "    .dataframe tbody tr th:only-of-type {\n",
       "        vertical-align: middle;\n",
       "    }\n",
       "\n",
       "    .dataframe tbody tr th {\n",
       "        vertical-align: top;\n",
       "    }\n",
       "\n",
       "    .dataframe thead th {\n",
       "        text-align: right;\n",
       "    }\n",
       "</style>\n",
       "<table border=\"1\" class=\"dataframe\">\n",
       "  <thead>\n",
       "    <tr style=\"text-align: right;\">\n",
       "      <th></th>\n",
       "      <th>count</th>\n",
       "      <th>mean</th>\n",
       "      <th>std</th>\n",
       "      <th>min</th>\n",
       "      <th>25%</th>\n",
       "      <th>50%</th>\n",
       "      <th>75%</th>\n",
       "      <th>max</th>\n",
       "    </tr>\n",
       "  </thead>\n",
       "  <tbody>\n",
       "    <tr>\n",
       "      <th>cap-diameter</th>\n",
       "      <td>3116941.0</td>\n",
       "      <td>6.31</td>\n",
       "      <td>4.66</td>\n",
       "      <td>0.03</td>\n",
       "      <td>3.32</td>\n",
       "      <td>5.75</td>\n",
       "      <td>8.24</td>\n",
       "      <td>80.67</td>\n",
       "    </tr>\n",
       "    <tr>\n",
       "      <th>stem-height</th>\n",
       "      <td>3116945.0</td>\n",
       "      <td>6.35</td>\n",
       "      <td>2.70</td>\n",
       "      <td>0.00</td>\n",
       "      <td>4.67</td>\n",
       "      <td>5.88</td>\n",
       "      <td>7.41</td>\n",
       "      <td>88.72</td>\n",
       "    </tr>\n",
       "    <tr>\n",
       "      <th>stem-width</th>\n",
       "      <td>3116945.0</td>\n",
       "      <td>11.15</td>\n",
       "      <td>8.10</td>\n",
       "      <td>0.00</td>\n",
       "      <td>4.97</td>\n",
       "      <td>9.65</td>\n",
       "      <td>15.63</td>\n",
       "      <td>102.90</td>\n",
       "    </tr>\n",
       "  </tbody>\n",
       "</table>\n",
       "</div>"
      ],
      "text/plain": [
       "                  count   mean   std   min   25%   50%    75%     max\n",
       "cap-diameter  3116941.0   6.31  4.66  0.03  3.32  5.75   8.24   80.67\n",
       "stem-height   3116945.0   6.35  2.70  0.00  4.67  5.88   7.41   88.72\n",
       "stem-width    3116945.0  11.15  8.10  0.00  4.97  9.65  15.63  102.90"
      ]
     },
     "execution_count": 8,
     "metadata": {},
     "output_type": "execute_result"
    }
   ],
   "source": [
    "train.describe().T.round(2)"
   ]
  },
  {
   "cell_type": "code",
   "execution_count": 9,
   "id": "85d9864f",
   "metadata": {
    "execution": {
     "iopub.execute_input": "2024-08-08T16:10:56.403979Z",
     "iopub.status.busy": "2024-08-08T16:10:56.402826Z",
     "iopub.status.idle": "2024-08-08T16:11:01.412473Z",
     "shell.execute_reply": "2024-08-08T16:11:01.411353Z"
    },
    "papermill": {
     "duration": 5.026453,
     "end_time": "2024-08-08T16:11:01.414815",
     "exception": false,
     "start_time": "2024-08-08T16:10:56.388362",
     "status": "completed"
    },
    "tags": []
   },
   "outputs": [
    {
     "data": {
      "text/html": [
       "<style type=\"text/css\">\n",
       "#T_967c2_row0_col1, #T_967c2_row0_col2 {\n",
       "  background-color: #023858;\n",
       "  color: #f1f1f1;\n",
       "}\n",
       "#T_967c2_row1_col1 {\n",
       "  background-color: #034267;\n",
       "  color: #f1f1f1;\n",
       "}\n",
       "#T_967c2_row1_col2 {\n",
       "  background-color: #034369;\n",
       "  color: #f1f1f1;\n",
       "}\n",
       "#T_967c2_row2_col1 {\n",
       "  background-color: #034a74;\n",
       "  color: #f1f1f1;\n",
       "}\n",
       "#T_967c2_row2_col2, #T_967c2_row3_col1, #T_967c2_row3_col2 {\n",
       "  background-color: #034b76;\n",
       "  color: #f1f1f1;\n",
       "}\n",
       "#T_967c2_row4_col1 {\n",
       "  background-color: #2484ba;\n",
       "  color: #f1f1f1;\n",
       "}\n",
       "#T_967c2_row4_col2 {\n",
       "  background-color: #2383ba;\n",
       "  color: #f1f1f1;\n",
       "}\n",
       "#T_967c2_row5_col1 {\n",
       "  background-color: #93b5d6;\n",
       "  color: #000000;\n",
       "}\n",
       "#T_967c2_row5_col2 {\n",
       "  background-color: #94b6d7;\n",
       "  color: #000000;\n",
       "}\n",
       "#T_967c2_row6_col1 {\n",
       "  background-color: #d5d5e8;\n",
       "  color: #000000;\n",
       "}\n",
       "#T_967c2_row6_col2 {\n",
       "  background-color: #d4d4e8;\n",
       "  color: #000000;\n",
       "}\n",
       "#T_967c2_row7_col1, #T_967c2_row7_col2 {\n",
       "  background-color: #e0deed;\n",
       "  color: #000000;\n",
       "}\n",
       "#T_967c2_row8_col1 {\n",
       "  background-color: #f8f1f8;\n",
       "  color: #000000;\n",
       "}\n",
       "#T_967c2_row8_col2 {\n",
       "  background-color: #f9f2f8;\n",
       "  color: #000000;\n",
       "}\n",
       "#T_967c2_row9_col1, #T_967c2_row9_col2, #T_967c2_row10_col1, #T_967c2_row10_col2, #T_967c2_row11_col1, #T_967c2_row11_col2, #T_967c2_row12_col1, #T_967c2_row12_col2, #T_967c2_row13_col1, #T_967c2_row13_col2, #T_967c2_row14_col1, #T_967c2_row14_col2, #T_967c2_row15_col1, #T_967c2_row15_col2, #T_967c2_row16_col1, #T_967c2_row16_col2, #T_967c2_row17_col1, #T_967c2_row17_col2, #T_967c2_row18_col1, #T_967c2_row18_col2, #T_967c2_row19_col1, #T_967c2_row19_col2, #T_967c2_row20_col1, #T_967c2_row20_col2 {\n",
       "  background-color: #fff7fb;\n",
       "  color: #000000;\n",
       "}\n",
       "</style>\n",
       "<table id=\"T_967c2\">\n",
       "  <thead>\n",
       "    <tr>\n",
       "      <th class=\"blank level0\" >&nbsp;</th>\n",
       "      <th id=\"T_967c2_level0_col0\" class=\"col_heading level0 col0\" >col</th>\n",
       "      <th id=\"T_967c2_level0_col1\" class=\"col_heading level0 col1\" >na</th>\n",
       "      <th id=\"T_967c2_level0_col2\" class=\"col_heading level0 col2\" >percentage_na</th>\n",
       "    </tr>\n",
       "  </thead>\n",
       "  <tbody>\n",
       "    <tr>\n",
       "      <th id=\"T_967c2_level0_row0\" class=\"row_heading level0 row0\" >14</th>\n",
       "      <td id=\"T_967c2_row0_col0\" class=\"data row0 col0\" >veil-type</td>\n",
       "      <td id=\"T_967c2_row0_col1\" class=\"data row0 col1\" >2957493</td>\n",
       "      <td id=\"T_967c2_row0_col2\" class=\"data row0 col2\" >0.950000</td>\n",
       "    </tr>\n",
       "    <tr>\n",
       "      <th id=\"T_967c2_level0_row1\" class=\"row_heading level0 row1\" >18</th>\n",
       "      <td id=\"T_967c2_row1_col0\" class=\"data row1 col0\" >spore-print-color</td>\n",
       "      <td id=\"T_967c2_row1_col1\" class=\"data row1 col1\" >2849682</td>\n",
       "      <td id=\"T_967c2_row1_col2\" class=\"data row1 col2\" >0.910000</td>\n",
       "    </tr>\n",
       "    <tr>\n",
       "      <th id=\"T_967c2_level0_row2\" class=\"row_heading level0 row2\" >11</th>\n",
       "      <td id=\"T_967c2_row2_col0\" class=\"data row2 col0\" >stem-root</td>\n",
       "      <td id=\"T_967c2_row2_col1\" class=\"data row2 col1\" >2757023</td>\n",
       "      <td id=\"T_967c2_row2_col2\" class=\"data row2 col2\" >0.880000</td>\n",
       "    </tr>\n",
       "    <tr>\n",
       "      <th id=\"T_967c2_level0_row3\" class=\"row_heading level0 row3\" >15</th>\n",
       "      <td id=\"T_967c2_row3_col0\" class=\"data row3 col0\" >veil-color</td>\n",
       "      <td id=\"T_967c2_row3_col1\" class=\"data row3 col1\" >2740947</td>\n",
       "      <td id=\"T_967c2_row3_col2\" class=\"data row3 col2\" >0.880000</td>\n",
       "    </tr>\n",
       "    <tr>\n",
       "      <th id=\"T_967c2_level0_row4\" class=\"row_heading level0 row4\" >12</th>\n",
       "      <td id=\"T_967c2_row4_col0\" class=\"data row4 col0\" >stem-surface</td>\n",
       "      <td id=\"T_967c2_row4_col1\" class=\"data row4 col1\" >1980861</td>\n",
       "      <td id=\"T_967c2_row4_col2\" class=\"data row4 col2\" >0.640000</td>\n",
       "    </tr>\n",
       "    <tr>\n",
       "      <th id=\"T_967c2_level0_row5\" class=\"row_heading level0 row5\" >7</th>\n",
       "      <td id=\"T_967c2_row5_col0\" class=\"data row5 col0\" >gill-spacing</td>\n",
       "      <td id=\"T_967c2_row5_col1\" class=\"data row5 col1\" >1258435</td>\n",
       "      <td id=\"T_967c2_row5_col2\" class=\"data row5 col2\" >0.400000</td>\n",
       "    </tr>\n",
       "    <tr>\n",
       "      <th id=\"T_967c2_level0_row6\" class=\"row_heading level0 row6\" >3</th>\n",
       "      <td id=\"T_967c2_row6_col0\" class=\"data row6 col0\" >cap-surface</td>\n",
       "      <td id=\"T_967c2_row6_col1\" class=\"data row6 col1\" >671023</td>\n",
       "      <td id=\"T_967c2_row6_col2\" class=\"data row6 col2\" >0.220000</td>\n",
       "    </tr>\n",
       "    <tr>\n",
       "      <th id=\"T_967c2_level0_row7\" class=\"row_heading level0 row7\" >6</th>\n",
       "      <td id=\"T_967c2_row7_col0\" class=\"data row7 col0\" >gill-attachment</td>\n",
       "      <td id=\"T_967c2_row7_col1\" class=\"data row7 col1\" >523936</td>\n",
       "      <td id=\"T_967c2_row7_col2\" class=\"data row7 col2\" >0.170000</td>\n",
       "    </tr>\n",
       "    <tr>\n",
       "      <th id=\"T_967c2_level0_row8\" class=\"row_heading level0 row8\" >17</th>\n",
       "      <td id=\"T_967c2_row8_col0\" class=\"data row8 col0\" >ring-type</td>\n",
       "      <td id=\"T_967c2_row8_col1\" class=\"data row8 col1\" >128880</td>\n",
       "      <td id=\"T_967c2_row8_col2\" class=\"data row8 col2\" >0.040000</td>\n",
       "    </tr>\n",
       "    <tr>\n",
       "      <th id=\"T_967c2_level0_row9\" class=\"row_heading level0 row9\" >8</th>\n",
       "      <td id=\"T_967c2_row9_col0\" class=\"data row9 col0\" >gill-color</td>\n",
       "      <td id=\"T_967c2_row9_col1\" class=\"data row9 col1\" >57</td>\n",
       "      <td id=\"T_967c2_row9_col2\" class=\"data row9 col2\" >0.000000</td>\n",
       "    </tr>\n",
       "    <tr>\n",
       "      <th id=\"T_967c2_level0_row10\" class=\"row_heading level0 row10\" >19</th>\n",
       "      <td id=\"T_967c2_row10_col0\" class=\"data row10 col0\" >habitat</td>\n",
       "      <td id=\"T_967c2_row10_col1\" class=\"data row10 col1\" >45</td>\n",
       "      <td id=\"T_967c2_row10_col2\" class=\"data row10 col2\" >0.000000</td>\n",
       "    </tr>\n",
       "    <tr>\n",
       "      <th id=\"T_967c2_level0_row11\" class=\"row_heading level0 row11\" >2</th>\n",
       "      <td id=\"T_967c2_row11_col0\" class=\"data row11 col0\" >cap-shape</td>\n",
       "      <td id=\"T_967c2_row11_col1\" class=\"data row11 col1\" >40</td>\n",
       "      <td id=\"T_967c2_row11_col2\" class=\"data row11 col2\" >0.000000</td>\n",
       "    </tr>\n",
       "    <tr>\n",
       "      <th id=\"T_967c2_level0_row12\" class=\"row_heading level0 row12\" >13</th>\n",
       "      <td id=\"T_967c2_row12_col0\" class=\"data row12 col0\" >stem-color</td>\n",
       "      <td id=\"T_967c2_row12_col1\" class=\"data row12 col1\" >38</td>\n",
       "      <td id=\"T_967c2_row12_col2\" class=\"data row12 col2\" >0.000000</td>\n",
       "    </tr>\n",
       "    <tr>\n",
       "      <th id=\"T_967c2_level0_row13\" class=\"row_heading level0 row13\" >16</th>\n",
       "      <td id=\"T_967c2_row13_col0\" class=\"data row13 col0\" >has-ring</td>\n",
       "      <td id=\"T_967c2_row13_col1\" class=\"data row13 col1\" >24</td>\n",
       "      <td id=\"T_967c2_row13_col2\" class=\"data row13 col2\" >0.000000</td>\n",
       "    </tr>\n",
       "    <tr>\n",
       "      <th id=\"T_967c2_level0_row14\" class=\"row_heading level0 row14\" >4</th>\n",
       "      <td id=\"T_967c2_row14_col0\" class=\"data row14 col0\" >cap-color</td>\n",
       "      <td id=\"T_967c2_row14_col1\" class=\"data row14 col1\" >12</td>\n",
       "      <td id=\"T_967c2_row14_col2\" class=\"data row14 col2\" >0.000000</td>\n",
       "    </tr>\n",
       "    <tr>\n",
       "      <th id=\"T_967c2_level0_row15\" class=\"row_heading level0 row15\" >5</th>\n",
       "      <td id=\"T_967c2_row15_col0\" class=\"data row15 col0\" >does-bruise-or-bleed</td>\n",
       "      <td id=\"T_967c2_row15_col1\" class=\"data row15 col1\" >8</td>\n",
       "      <td id=\"T_967c2_row15_col2\" class=\"data row15 col2\" >0.000000</td>\n",
       "    </tr>\n",
       "    <tr>\n",
       "      <th id=\"T_967c2_level0_row16\" class=\"row_heading level0 row16\" >1</th>\n",
       "      <td id=\"T_967c2_row16_col0\" class=\"data row16 col0\" >cap-diameter</td>\n",
       "      <td id=\"T_967c2_row16_col1\" class=\"data row16 col1\" >4</td>\n",
       "      <td id=\"T_967c2_row16_col2\" class=\"data row16 col2\" >0.000000</td>\n",
       "    </tr>\n",
       "    <tr>\n",
       "      <th id=\"T_967c2_level0_row17\" class=\"row_heading level0 row17\" >0</th>\n",
       "      <td id=\"T_967c2_row17_col0\" class=\"data row17 col0\" >class</td>\n",
       "      <td id=\"T_967c2_row17_col1\" class=\"data row17 col1\" >0</td>\n",
       "      <td id=\"T_967c2_row17_col2\" class=\"data row17 col2\" >0.000000</td>\n",
       "    </tr>\n",
       "    <tr>\n",
       "      <th id=\"T_967c2_level0_row18\" class=\"row_heading level0 row18\" >10</th>\n",
       "      <td id=\"T_967c2_row18_col0\" class=\"data row18 col0\" >stem-width</td>\n",
       "      <td id=\"T_967c2_row18_col1\" class=\"data row18 col1\" >0</td>\n",
       "      <td id=\"T_967c2_row18_col2\" class=\"data row18 col2\" >0.000000</td>\n",
       "    </tr>\n",
       "    <tr>\n",
       "      <th id=\"T_967c2_level0_row19\" class=\"row_heading level0 row19\" >9</th>\n",
       "      <td id=\"T_967c2_row19_col0\" class=\"data row19 col0\" >stem-height</td>\n",
       "      <td id=\"T_967c2_row19_col1\" class=\"data row19 col1\" >0</td>\n",
       "      <td id=\"T_967c2_row19_col2\" class=\"data row19 col2\" >0.000000</td>\n",
       "    </tr>\n",
       "    <tr>\n",
       "      <th id=\"T_967c2_level0_row20\" class=\"row_heading level0 row20\" >20</th>\n",
       "      <td id=\"T_967c2_row20_col0\" class=\"data row20 col0\" >season</td>\n",
       "      <td id=\"T_967c2_row20_col1\" class=\"data row20 col1\" >0</td>\n",
       "      <td id=\"T_967c2_row20_col2\" class=\"data row20 col2\" >0.000000</td>\n",
       "    </tr>\n",
       "  </tbody>\n",
       "</table>\n"
      ],
      "text/plain": [
       "<pandas.io.formats.style.Styler at 0x7b336441f730>"
      ]
     },
     "execution_count": 9,
     "metadata": {},
     "output_type": "execute_result"
    }
   ],
   "source": [
    "# Check for missing values\n",
    "train_na = (train.isna()\n",
    "                    .sum()\n",
    "                    .reset_index()\n",
    "                    .sort_values(0, ascending=False)\n",
    "                ).rename(columns={'index':'col',0:'na'})\n",
    "\n",
    "train_na['percentage_na'] = (train_na['na'] / len(train)).round(2)\n",
    "\n",
    "train_na.style.background_gradient()"
   ]
  },
  {
   "cell_type": "code",
   "execution_count": 10,
   "id": "9e8fc068",
   "metadata": {
    "execution": {
     "iopub.execute_input": "2024-08-08T16:11:01.443568Z",
     "iopub.status.busy": "2024-08-08T16:11:01.443060Z",
     "iopub.status.idle": "2024-08-08T16:11:09.997212Z",
     "shell.execute_reply": "2024-08-08T16:11:09.996084Z"
    },
    "papermill": {
     "duration": 8.571436,
     "end_time": "2024-08-08T16:11:09.999653",
     "exception": false,
     "start_time": "2024-08-08T16:11:01.428217",
     "status": "completed"
    },
    "tags": []
   },
   "outputs": [
    {
     "data": {
      "text/html": [
       "<div>\n",
       "<style scoped>\n",
       "    .dataframe tbody tr th:only-of-type {\n",
       "        vertical-align: middle;\n",
       "    }\n",
       "\n",
       "    .dataframe tbody tr th {\n",
       "        vertical-align: top;\n",
       "    }\n",
       "\n",
       "    .dataframe thead th {\n",
       "        text-align: right;\n",
       "    }\n",
       "</style>\n",
       "<table border=\"1\" class=\"dataframe\">\n",
       "  <thead>\n",
       "    <tr style=\"text-align: right;\">\n",
       "      <th></th>\n",
       "      <th>class</th>\n",
       "      <th>cap-diameter</th>\n",
       "      <th>cap-shape</th>\n",
       "      <th>cap-surface</th>\n",
       "      <th>cap-color</th>\n",
       "      <th>does-bruise-or-bleed</th>\n",
       "      <th>gill-attachment</th>\n",
       "      <th>gill-spacing</th>\n",
       "      <th>gill-color</th>\n",
       "      <th>stem-height</th>\n",
       "      <th>...</th>\n",
       "      <th>stem-root</th>\n",
       "      <th>stem-surface</th>\n",
       "      <th>stem-color</th>\n",
       "      <th>veil-type</th>\n",
       "      <th>veil-color</th>\n",
       "      <th>has-ring</th>\n",
       "      <th>ring-type</th>\n",
       "      <th>spore-print-color</th>\n",
       "      <th>habitat</th>\n",
       "      <th>season</th>\n",
       "    </tr>\n",
       "    <tr>\n",
       "      <th>id</th>\n",
       "      <th></th>\n",
       "      <th></th>\n",
       "      <th></th>\n",
       "      <th></th>\n",
       "      <th></th>\n",
       "      <th></th>\n",
       "      <th></th>\n",
       "      <th></th>\n",
       "      <th></th>\n",
       "      <th></th>\n",
       "      <th></th>\n",
       "      <th></th>\n",
       "      <th></th>\n",
       "      <th></th>\n",
       "      <th></th>\n",
       "      <th></th>\n",
       "      <th></th>\n",
       "      <th></th>\n",
       "      <th></th>\n",
       "      <th></th>\n",
       "      <th></th>\n",
       "    </tr>\n",
       "  </thead>\n",
       "  <tbody>\n",
       "  </tbody>\n",
       "</table>\n",
       "<p>0 rows × 21 columns</p>\n",
       "</div>"
      ],
      "text/plain": [
       "Empty DataFrame\n",
       "Columns: [class, cap-diameter, cap-shape, cap-surface, cap-color, does-bruise-or-bleed, gill-attachment, gill-spacing, gill-color, stem-height, stem-width, stem-root, stem-surface, stem-color, veil-type, veil-color, has-ring, ring-type, spore-print-color, habitat, season]\n",
       "Index: []\n",
       "\n",
       "[0 rows x 21 columns]"
      ]
     },
     "execution_count": 10,
     "metadata": {},
     "output_type": "execute_result"
    }
   ],
   "source": [
    "train[train.duplicated()]"
   ]
  },
  {
   "cell_type": "code",
   "execution_count": 11,
   "id": "6ceeecf2",
   "metadata": {
    "execution": {
     "iopub.execute_input": "2024-08-08T16:11:10.028539Z",
     "iopub.status.busy": "2024-08-08T16:11:10.028151Z",
     "iopub.status.idle": "2024-08-08T16:11:10.032909Z",
     "shell.execute_reply": "2024-08-08T16:11:10.031927Z"
    },
    "papermill": {
     "duration": 0.021656,
     "end_time": "2024-08-08T16:11:10.035000",
     "exception": false,
     "start_time": "2024-08-08T16:11:10.013344",
     "status": "completed"
    },
    "tags": []
   },
   "outputs": [],
   "source": [
    "cols_drop = ['veil-type', 'spore-print-color', 'stem-root', 'veil-color', 'stem-surface']"
   ]
  },
  {
   "cell_type": "code",
   "execution_count": 12,
   "id": "312fb8bd",
   "metadata": {
    "execution": {
     "iopub.execute_input": "2024-08-08T16:11:10.064367Z",
     "iopub.status.busy": "2024-08-08T16:11:10.063359Z",
     "iopub.status.idle": "2024-08-08T16:11:10.832415Z",
     "shell.execute_reply": "2024-08-08T16:11:10.831505Z"
    },
    "papermill": {
     "duration": 0.786729,
     "end_time": "2024-08-08T16:11:10.835267",
     "exception": false,
     "start_time": "2024-08-08T16:11:10.048538",
     "status": "completed"
    },
    "tags": []
   },
   "outputs": [],
   "source": [
    "train.drop(columns=cols_drop, inplace=True)\n",
    "test.drop(columns=cols_drop, inplace=True)"
   ]
  },
  {
   "cell_type": "code",
   "execution_count": 13,
   "id": "d2b43dbe",
   "metadata": {
    "execution": {
     "iopub.execute_input": "2024-08-08T16:11:10.863961Z",
     "iopub.status.busy": "2024-08-08T16:11:10.863539Z",
     "iopub.status.idle": "2024-08-08T16:11:11.413052Z",
     "shell.execute_reply": "2024-08-08T16:11:11.411826Z"
    },
    "papermill": {
     "duration": 0.566876,
     "end_time": "2024-08-08T16:11:11.415783",
     "exception": false,
     "start_time": "2024-08-08T16:11:10.848907",
     "status": "completed"
    },
    "tags": []
   },
   "outputs": [],
   "source": [
    "categorical_var = train.select_dtypes('object').columns\n",
    "continous_var = train.select_dtypes('float').columns"
   ]
  },
  {
   "cell_type": "code",
   "execution_count": 14,
   "id": "f015b9d4",
   "metadata": {
    "execution": {
     "iopub.execute_input": "2024-08-08T16:11:11.444799Z",
     "iopub.status.busy": "2024-08-08T16:11:11.444416Z",
     "iopub.status.idle": "2024-08-08T16:11:17.380069Z",
     "shell.execute_reply": "2024-08-08T16:11:17.378795Z"
    },
    "papermill": {
     "duration": 5.953821,
     "end_time": "2024-08-08T16:11:17.383413",
     "exception": false,
     "start_time": "2024-08-08T16:11:11.429592",
     "status": "completed"
    },
    "tags": []
   },
   "outputs": [
    {
     "name": "stdout",
     "output_type": "stream",
     "text": [
      "class\n",
      "p    1705396\n",
      "e    1411549\n",
      "Name: count, dtype: int64\n",
      "cap-shape\n",
      "x            1436026\n",
      "f             676238\n",
      "s             365146\n",
      "b             318646\n",
      "o             108835\n",
      "p             106967\n",
      "c             104520\n",
      "d                 65\n",
      "e                 60\n",
      "n                 41\n",
      "t                 36\n",
      "w                 36\n",
      "g                 34\n",
      "y                 33\n",
      "r                 32\n",
      "a                 30\n",
      "u                 27\n",
      "z                 22\n",
      "l                 21\n",
      "i                 14\n",
      "k                 13\n",
      "h                  6\n",
      "m                  2\n",
      "8                  2\n",
      "3.55               2\n",
      "7 x                2\n",
      "4.97               2\n",
      "3.25               1\n",
      "11.12              1\n",
      "3 x                1\n",
      "4.3                1\n",
      "7.41               1\n",
      "6.21               1\n",
      "8.29               1\n",
      "7.21               1\n",
      "54.78              1\n",
      "2.82               1\n",
      "20.25              1\n",
      "3.52               1\n",
      "3.04               1\n",
      "6.53               1\n",
      "2.63               1\n",
      "3.91               1\n",
      "6.44               1\n",
      "8.3                1\n",
      "7.6                1\n",
      "1.66               1\n",
      "17.44              1\n",
      "4.33               1\n",
      "3.37               1\n",
      "7.43               1\n",
      "9.13               1\n",
      "ring-type          1\n",
      "19.29              1\n",
      "5 f                1\n",
      "2.85               1\n",
      "is s               1\n",
      "4.22               1\n",
      "3.6                1\n",
      "21.56              1\n",
      "6 x                1\n",
      "24.16              1\n",
      "10.13              1\n",
      "b f                1\n",
      "is p               1\n",
      "0.82               1\n",
      "10.46              1\n",
      "2.77               1\n",
      "2.94               1\n",
      "12.62              1\n",
      "5.15               1\n",
      "19.04              1\n",
      "49.21              1\n",
      "19.06              1\n",
      "Name: count, dtype: int64\n",
      "cap-surface\n",
      "t                       460777\n",
      "s                       384970\n",
      "y                       327826\n",
      "h                       284460\n",
      "g                       263729\n",
      "d                       206832\n",
      "k                       128875\n",
      "e                       119712\n",
      "i                       113440\n",
      "w                       109840\n",
      "l                        44859\n",
      "n                           96\n",
      "f                           75\n",
      "p                           59\n",
      "u                           49\n",
      "a                           44\n",
      "m                           42\n",
      "o                           39\n",
      "r                           35\n",
      "x                           33\n",
      "c                           31\n",
      "b                           18\n",
      "z                            8\n",
      "season                       7\n",
      "ring-type                    4\n",
      "class                        2\n",
      "has-ring                     2\n",
      "does None                    2\n",
      "does t                       2\n",
      "spore-print-color            1\n",
      "4.93                         1\n",
      "does-bruise-or-bleed         1\n",
      "10.1                         1\n",
      "2.79                         1\n",
      "spore-color                  1\n",
      "2.11                         1\n",
      "0.88                         1\n",
      "2.81                         1\n",
      "is k                         1\n",
      "7.99                         1\n",
      "2.92                         1\n",
      "2.51                         1\n",
      "10.34                        1\n",
      "is y                         1\n",
      "3.64                         1\n",
      "3.33                         1\n",
      "41.91                        1\n",
      "12.2                         1\n",
      "8.01                         1\n",
      "9.22                         1\n",
      "is None                      1\n",
      "1.14                         1\n",
      "6.49                         1\n",
      "1.08                         1\n",
      "24.38                        1\n",
      "veil-color                   1\n",
      "5.73                         1\n",
      "6.45                         1\n",
      "15.94                        1\n",
      "2.7                          1\n",
      "does l                       1\n",
      "5.07                         1\n",
      "cap-diameter                 1\n",
      "1.43                         1\n",
      "7.14                         1\n",
      "is h                         1\n",
      "0.85                         1\n",
      "6.57                         1\n",
      "12.79                        1\n",
      "4.66                         1\n",
      "14.04                        1\n",
      "23.18                        1\n",
      "3.06                         1\n",
      "16.39                        1\n",
      "4.21                         1\n",
      "11.78                        1\n",
      "8.1                          1\n",
      "does h                       1\n",
      "1.42                         1\n",
      "has h                        1\n",
      "10.83                        1\n",
      "8.96                         1\n",
      "0.87                         1\n",
      "Name: count, dtype: int64\n",
      "cap-color\n",
      "n                       1359542\n",
      "y                        386627\n",
      "w                        379442\n",
      "g                        210825\n",
      "e                        197290\n",
      "o                        178847\n",
      "p                         91838\n",
      "r                         78236\n",
      "u                         73172\n",
      "b                         61313\n",
      "k                         59888\n",
      "l                         39558\n",
      "f                            53\n",
      "d                            48\n",
      "s                            39\n",
      "a                            30\n",
      "t                            26\n",
      "h                            22\n",
      "m                            14\n",
      "x                            14\n",
      "c                            14\n",
      "i                            13\n",
      "z                            10\n",
      "ring-type                     6\n",
      "season                        6\n",
      "class                         5\n",
      "11.13                         2\n",
      "does-bruise-or-bleed          2\n",
      "3.34                          2\n",
      "2.7                           1\n",
      "8.57                          1\n",
      "17.93                         1\n",
      "2.57                          1\n",
      "11.92                         1\n",
      "3.08                          1\n",
      "2.82                          1\n",
      "4.24                          1\n",
      "17.19                         1\n",
      "20.02                         1\n",
      "7                             1\n",
      "2.9                           1\n",
      "6.36                          1\n",
      "5.91                          1\n",
      "10.56                         1\n",
      "26.89                         1\n",
      "4. n                          1\n",
      "20.62                         1\n",
      "stem-surface                  1\n",
      "20                            1\n",
      "25.98                         1\n",
      "8.67                          1\n",
      "3.11                          1\n",
      "does n                        1\n",
      "5.41                          1\n",
      "10.1                          1\n",
      "2.05                          1\n",
      "13                            1\n",
      "7.72                          1\n",
      "6.76                          1\n",
      "7.15                          1\n",
      "12.89                         1\n",
      "8.83                          1\n",
      "24.75                         1\n",
      "22.38                         1\n",
      "1.51                          1\n",
      "17.94                         1\n",
      "6.9                           1\n",
      "3.57                          1\n",
      "4.89                          1\n",
      "6.2                           1\n",
      "21.53                         1\n",
      "6.41                          1\n",
      "4.98                          1\n",
      "3.95                          1\n",
      "6.59                          1\n",
      "5.25                          1\n",
      "veil-color                    1\n",
      "9.02                          1\n",
      "Name: count, dtype: int64\n",
      "does-bruise-or-bleed\n",
      "f           2569743\n",
      "t            547085\n",
      "w                14\n",
      "c                11\n",
      "h                 9\n",
      "a                 7\n",
      "b                 7\n",
      "x                 7\n",
      "y                 7\n",
      "k                 6\n",
      "s                 6\n",
      "e                 4\n",
      "l                 4\n",
      "p                 4\n",
      "d                 4\n",
      "g                 3\n",
      "z                 3\n",
      "o                 3\n",
      "i                 2\n",
      "n                 2\n",
      "r                 1\n",
      "has-ring          1\n",
      "3.43              1\n",
      "4.42              1\n",
      "2.9               1\n",
      "u                 1\n",
      "Name: count, dtype: int64\n",
      "gill-attachment\n",
      "a                       646034\n",
      "d                       589236\n",
      "x                       360878\n",
      "e                       301858\n",
      "s                       295439\n",
      "p                       279110\n",
      "f                       119953\n",
      "c                           74\n",
      "u                           56\n",
      "w                           37\n",
      "t                           36\n",
      "k                           33\n",
      "y                           28\n",
      "i                           25\n",
      "m                           22\n",
      "g                           22\n",
      "b                           21\n",
      "n                           20\n",
      "o                           18\n",
      "h                           18\n",
      "l                           16\n",
      "r                           10\n",
      "z                            5\n",
      "season                       5\n",
      "3.45                         2\n",
      "2.54                         1\n",
      "6.32                         1\n",
      "13.15                        1\n",
      "19.65                        1\n",
      "2.41                         1\n",
      "15.49                        1\n",
      "4.01                         1\n",
      "8.37                         1\n",
      "does f                       1\n",
      "6.11                         1\n",
      "28.7                         1\n",
      "1.51                         1\n",
      "1.37                         1\n",
      "28.15                        1\n",
      "7.09                         1\n",
      "9.88                         1\n",
      "2.67                         1\n",
      "18.21                        1\n",
      "1.48                         1\n",
      "5.93                         1\n",
      "1.32                         1\n",
      "16.27                        1\n",
      "11.26                        1\n",
      "2.79                         1\n",
      "is f                         1\n",
      "8.47                         1\n",
      "3.91                         1\n",
      "has d                        1\n",
      "11.62                        1\n",
      "32.54                        1\n",
      "does-bruise-or-bleed         1\n",
      "4.64                         1\n",
      "4.77                         1\n",
      "p p                          1\n",
      "7.92                         1\n",
      "8.79                         1\n",
      "does None                    1\n",
      "has f                        1\n",
      "ring-type                    1\n",
      "16.33                        1\n",
      "10.85                        1\n",
      "20.07                        1\n",
      "2.82                         1\n",
      "7.86                         1\n",
      "does                         1\n",
      "10.23                        1\n",
      "6.74                         1\n",
      "0.92                         1\n",
      "1                            1\n",
      "is a                         1\n",
      "3.71                         1\n",
      "50.44                        1\n",
      "13.94                        1\n",
      "Name: count, dtype: int64\n",
      "gill-spacing\n",
      "c              1331054\n",
      "d               407932\n",
      "f               119380\n",
      "e                   24\n",
      "a                   17\n",
      "s                   16\n",
      "b                   12\n",
      "x                    8\n",
      "t                    8\n",
      "p                    7\n",
      "k                    4\n",
      "g                    4\n",
      "l                    3\n",
      "h                    3\n",
      "r                    2\n",
      "6.67                 2\n",
      "y                    2\n",
      "0                    2\n",
      "3.81                 1\n",
      "1.6                  1\n",
      "n                    1\n",
      "1.88                 1\n",
      "does f               1\n",
      "4.09                 1\n",
      "1.36                 1\n",
      "3.24                 1\n",
      "5.55                 1\n",
      "5.42                 1\n",
      "5.7                  1\n",
      "3.62                 1\n",
      "6.4                  1\n",
      "24.38                1\n",
      "12.27                1\n",
      "1                    1\n",
      "cap-surface          1\n",
      "w                    1\n",
      "3.57                 1\n",
      "i                    1\n",
      "0.73                 1\n",
      "4.04                 1\n",
      "5.22                 1\n",
      "3.92                 1\n",
      "9.01                 1\n",
      "class                1\n",
      "4.8                  1\n",
      "2.69                 1\n",
      "3.61                 1\n",
      "55.13                1\n",
      "Name: count, dtype: int64\n",
      "gill-color\n",
      "w                       931538\n",
      "n                       543386\n",
      "y                       469464\n",
      "p                       343626\n",
      "g                       212164\n",
      "o                       157119\n",
      "k                       127970\n",
      "f                       119694\n",
      "r                        62799\n",
      "e                        56047\n",
      "b                        47247\n",
      "u                        45399\n",
      "l                           55\n",
      "d                           54\n",
      "t                           54\n",
      "s                           46\n",
      "x                           35\n",
      "c                           31\n",
      "a                           28\n",
      "h                           24\n",
      "m                           16\n",
      "z                           16\n",
      "i                            9\n",
      "class                        7\n",
      "season                       7\n",
      "ring-type                    5\n",
      "spacing                      4\n",
      "spore-print-color            3\n",
      "5                            3\n",
      "has-ring                     3\n",
      "habitat                      2\n",
      "18.03                        2\n",
      "e y                          1\n",
      "is y                         1\n",
      "1.91                         1\n",
      "does n                       1\n",
      "4.64                         1\n",
      "10.21                        1\n",
      "16.41                        1\n",
      "6.41                         1\n",
      "8.83                         1\n",
      "veil-type                    1\n",
      "does-bruise-or-bleed         1\n",
      "20.44                        1\n",
      "6.4                          1\n",
      "10.07                        1\n",
      "20.6                         1\n",
      "7.59                         1\n",
      "4                            1\n",
      "0.92                         1\n",
      "18.12                        1\n",
      "3.39                         1\n",
      "does w                       1\n",
      "3.45                         1\n",
      "8.06                         1\n",
      "stem-root                    1\n",
      "6.19                         1\n",
      "4.49                         1\n",
      "9.46                         1\n",
      "5.01                         1\n",
      "3.4                          1\n",
      "17                           1\n",
      "8.37                         1\n",
      "Name: count, dtype: int64\n",
      "stem-color\n",
      "w                    1196637\n",
      "n                    1003464\n",
      "y                     373971\n",
      "g                     132019\n",
      "o                     111541\n",
      "e                     103373\n",
      "u                      67017\n",
      "p                      54690\n",
      "k                      33676\n",
      "r                      22329\n",
      "l                       9994\n",
      "b                       7365\n",
      "f                        573\n",
      "s                         51\n",
      "t                         40\n",
      "a                         36\n",
      "x                         20\n",
      "i                         19\n",
      "d                         16\n",
      "h                         12\n",
      "m                         11\n",
      "c                          7\n",
      "z                          6\n",
      "ring-type                  3\n",
      "class                      2\n",
      "spore-print-color          2\n",
      "is n                       1\n",
      "6.31                       1\n",
      "12.92                      1\n",
      "3.98                       1\n",
      "20.07                      1\n",
      "7.7                        1\n",
      "22.6                       1\n",
      "6.09                       1\n",
      "17.45                      1\n",
      "3.56                       1\n",
      "3.37                       1\n",
      "4.62                       1\n",
      "2.54                       1\n",
      "39.51                      1\n",
      "18.06                      1\n",
      "3.53                       1\n",
      "4.49                       1\n",
      "1.41                       1\n",
      "e n                        1\n",
      "8.49                       1\n",
      "2.75                       1\n",
      "7.84                       1\n",
      "4.75                       1\n",
      "26.4                       1\n",
      "is w                       1\n",
      "8.32                       1\n",
      "23.59                      1\n",
      "2.78                       1\n",
      "3.13                       1\n",
      "33.52                      1\n",
      "7.33                       1\n",
      "1.75                       1\n",
      "4.33                       1\n",
      "Name: count, dtype: int64\n",
      "has-ring\n",
      "f             2368820\n",
      "t              747982\n",
      "r                  16\n",
      "h                  13\n",
      "c                  11\n",
      "l                  11\n",
      "s                  11\n",
      "p                  11\n",
      "g                   8\n",
      "z                   6\n",
      "e                   6\n",
      "x                   5\n",
      "m                   4\n",
      "y                   3\n",
      "d                   3\n",
      "k                   2\n",
      "o                   2\n",
      "n                   2\n",
      "f has-ring          1\n",
      "i                   1\n",
      "10.3                1\n",
      "w                   1\n",
      "a                   1\n",
      "Name: count, dtype: int64\n",
      "ring-type\n",
      "f                       2477170\n",
      "e                        120006\n",
      "z                        113780\n",
      "l                         73443\n",
      "r                         67909\n",
      "p                         67678\n",
      "g                         63687\n",
      "m                          3992\n",
      "t                            98\n",
      "d                            37\n",
      "n                            34\n",
      "x                            32\n",
      "b                            29\n",
      "y                            25\n",
      "s                            18\n",
      "k                            18\n",
      "a                            16\n",
      "h                            15\n",
      "w                            14\n",
      "u                            13\n",
      "c                            11\n",
      "o                             9\n",
      "ring-type                     7\n",
      "i                             4\n",
      "does f                        3\n",
      "season                        3\n",
      "15                            1\n",
      "14                            1\n",
      "2.87                          1\n",
      "sp                            1\n",
      "class                         1\n",
      "spore-print-color             1\n",
      "2                             1\n",
      "11                            1\n",
      "1                             1\n",
      "23.6                          1\n",
      "4                             1\n",
      "does-bruise-or-bleed          1\n",
      "3.12                          1\n",
      "8.25                          1\n",
      "Name: count, dtype: int64\n",
      "habitat\n",
      "d                       2177573\n",
      "g                        454908\n",
      "l                        171892\n",
      "m                        150969\n",
      "h                        120137\n",
      "w                         18530\n",
      "p                         17180\n",
      "u                          5264\n",
      "e                            55\n",
      "s                            52\n",
      "n                            41\n",
      "t                            40\n",
      "r                            38\n",
      "y                            34\n",
      "a                            34\n",
      "k                            31\n",
      "c                            26\n",
      "b                            18\n",
      "o                            12\n",
      "f                            11\n",
      "i                             7\n",
      "x                             5\n",
      "z                             5\n",
      "habitat                       5\n",
      "class                         3\n",
      "spore-print-color             3\n",
      "ring-type                     2\n",
      "18.35                         1\n",
      "3.68                          1\n",
      "2.44                          1\n",
      "1.66                          1\n",
      "17.38                         1\n",
      "veil-type                     1\n",
      "6.75                          1\n",
      "cap-diameter                  1\n",
      "7.37                          1\n",
      "16.46                         1\n",
      "3.11                          1\n",
      "6.63                          1\n",
      "is w                          1\n",
      "5.62                          1\n",
      "7.31                          1\n",
      "10.07                         1\n",
      "5.56                          1\n",
      "is h                          1\n",
      "4                             1\n",
      "2.94                          1\n",
      "does-bruise-or-bleed          1\n",
      "9.28                          1\n",
      "17.1                          1\n",
      "8.09                          1\n",
      "2.25                          1\n",
      "Name: count, dtype: int64\n",
      "season\n",
      "a    1543321\n",
      "u    1153588\n",
      "w     278189\n",
      "s     141847\n",
      "Name: count, dtype: int64\n"
     ]
    }
   ],
   "source": [
    "# Check labels\n",
    "pd.set_option('display.max_rows', None)\n",
    "\n",
    "for col in train[categorical_var].columns:\n",
    "    print(train[col].value_counts())\n",
    "    \n",
    "pd.set_option('display.max_rows', 5)"
   ]
  },
  {
   "cell_type": "code",
   "execution_count": 15,
   "id": "d931b7c2",
   "metadata": {
    "execution": {
     "iopub.execute_input": "2024-08-08T16:11:17.415805Z",
     "iopub.status.busy": "2024-08-08T16:11:17.415415Z",
     "iopub.status.idle": "2024-08-08T16:11:17.420551Z",
     "shell.execute_reply": "2024-08-08T16:11:17.419417Z"
    },
    "papermill": {
     "duration": 0.023714,
     "end_time": "2024-08-08T16:11:17.422826",
     "exception": false,
     "start_time": "2024-08-08T16:11:17.399112",
     "status": "completed"
    },
    "tags": []
   },
   "outputs": [],
   "source": [
    "# Create a list containing the alphabet letters\n",
    "alhpabet = list(map(chr,range(97,123)))"
   ]
  },
  {
   "cell_type": "code",
   "execution_count": 16,
   "id": "755b2803",
   "metadata": {
    "execution": {
     "iopub.execute_input": "2024-08-08T16:11:17.455126Z",
     "iopub.status.busy": "2024-08-08T16:11:17.454366Z",
     "iopub.status.idle": "2024-08-08T16:12:07.804770Z",
     "shell.execute_reply": "2024-08-08T16:12:07.803585Z"
    },
    "papermill": {
     "duration": 50.369625,
     "end_time": "2024-08-08T16:12:07.807656",
     "exception": false,
     "start_time": "2024-08-08T16:11:17.438031",
     "status": "completed"
    },
    "tags": []
   },
   "outputs": [],
   "source": [
    "# Fixing some values \n",
    "train[categorical_var] = train[categorical_var].map(lambda x: 'Unkwnown' if x not in alhpabet else x)\n",
    "test[categorical_var[1:]] = test[categorical_var[1:]].map(lambda x: 'Unkwnown' if x not in alhpabet else x)"
   ]
  },
  {
   "cell_type": "code",
   "execution_count": 17,
   "id": "c4ff2965",
   "metadata": {
    "execution": {
     "iopub.execute_input": "2024-08-08T16:12:07.840376Z",
     "iopub.status.busy": "2024-08-08T16:12:07.839980Z",
     "iopub.status.idle": "2024-08-08T16:12:07.852771Z",
     "shell.execute_reply": "2024-08-08T16:12:07.851796Z"
    },
    "papermill": {
     "duration": 0.032237,
     "end_time": "2024-08-08T16:12:07.855515",
     "exception": false,
     "start_time": "2024-08-08T16:12:07.823278",
     "status": "completed"
    },
    "tags": []
   },
   "outputs": [],
   "source": [
    "train['count'] = 1"
   ]
  },
  {
   "cell_type": "markdown",
   "id": "51674cc2",
   "metadata": {
    "papermill": {
     "duration": 0.014917,
     "end_time": "2024-08-08T16:12:07.885631",
     "exception": false,
     "start_time": "2024-08-08T16:12:07.870714",
     "status": "completed"
    },
    "tags": []
   },
   "source": [
    "# Exploratory Data Analysis"
   ]
  },
  {
   "cell_type": "code",
   "execution_count": 18,
   "id": "e2352904",
   "metadata": {
    "execution": {
     "iopub.execute_input": "2024-08-08T16:12:07.917601Z",
     "iopub.status.busy": "2024-08-08T16:12:07.917208Z",
     "iopub.status.idle": "2024-08-08T16:12:35.282150Z",
     "shell.execute_reply": "2024-08-08T16:12:35.281008Z"
    },
    "papermill": {
     "duration": 27.383891,
     "end_time": "2024-08-08T16:12:35.284686",
     "exception": false,
     "start_time": "2024-08-08T16:12:07.900795",
     "status": "completed"
    },
    "tags": []
   },
   "outputs": [
    {
     "data": {
      "image/png": "[encoded data removed]",
      "text/plain": [
       "<Figure size 1200x300 with 2 Axes>"
      ]
     },
     "metadata": {},
     "output_type": "display_data"
    },
    {
     "data": {
      "image/png": "[encoded data removed]",
      "text/plain": [
       "<Figure size 1200x300 with 2 Axes>"
      ]
     },
     "metadata": {},
     "output_type": "display_data"
    },
    {
     "data": {
      "image/png": "[encoded data removed]",
      "text/plain": [
       "<Figure size 1200x300 with 2 Axes>"
      ]
     },
     "metadata": {},
     "output_type": "display_data"
    }
   ],
   "source": [
    "palette = ['green', 'red']\n",
    "\n",
    "for num_var in continous_var:    \n",
    "\n",
    "    fig, ax = plt.subplots(1, 2, figsize=(12, 3))   \n",
    "    \n",
    "    # Histograms    \n",
    "    sns.histplot(data=train, \n",
    "                      x=num_var,\n",
    "                      bins = 30,\n",
    "                      hue = 'class',\n",
    "                      palette=palette,\n",
    "                      #kde=True,\n",
    "                      alpha=0.3,\n",
    "                      ax=ax[0]                          \n",
    "                ) \n",
    "    # Mean vertical line\n",
    "    ax[0].axvline(np.mean(train[num_var]), color=\"red\")   \n",
    "    \n",
    "    # Boxplots\n",
    "    sns.boxplot(data=train, \n",
    "                     y=num_var,\n",
    "                     hue = 'class',\n",
    "                     palette=palette,\n",
    "                     #showfliers=False,\n",
    "                     ax=ax[1]\n",
    "                   );"
   ]
  },
  {
   "cell_type": "code",
   "execution_count": 19,
   "id": "3ab37437",
   "metadata": {
    "execution": {
     "iopub.execute_input": "2024-08-08T16:12:35.320219Z",
     "iopub.status.busy": "2024-08-08T16:12:35.319229Z",
     "iopub.status.idle": "2024-08-08T16:12:50.921741Z",
     "shell.execute_reply": "2024-08-08T16:12:50.920701Z"
    },
    "papermill": {
     "duration": 15.623014,
     "end_time": "2024-08-08T16:12:50.924362",
     "exception": false,
     "start_time": "2024-08-08T16:12:35.301348",
     "status": "completed"
    },
    "tags": []
   },
   "outputs": [
    {
     "data": {
      "image/png": "[encoded data removed]",
      "text/plain": [
       "<Figure size 1500x500 with 1 Axes>"
      ]
     },
     "metadata": {},
     "output_type": "display_data"
    },
    {
     "data": {
      "image/png": "[encoded data removed]",
      "text/plain": [
       "<Figure size 1500x500 with 1 Axes>"
      ]
     },
     "metadata": {},
     "output_type": "display_data"
    },
    {
     "data": {
      "image/png": "[encoded data removed]",
      "text/plain": [
       "<Figure size 1500x500 with 1 Axes>"
      ]
     },
     "metadata": {},
     "output_type": "display_data"
    },
    {
     "data": {
      "image/png": "[encoded data removed]",
      "text/plain": [
       "<Figure size 1500x500 with 1 Axes>"
      ]
     },
     "metadata": {},
     "output_type": "display_data"
    },
    {
     "data": {
      "image/png": "[encoded data removed]",
      "text/plain": [
       "<Figure size 1500x500 with 1 Axes>"
      ]
     },
     "metadata": {},
     "output_type": "display_data"
    },
    {
     "data": {
      "image/png": "[encoded data removed]",
      "text/plain": [
       "<Figure size 1500x500 with 1 Axes>"
      ]
     },
     "metadata": {},
     "output_type": "display_data"
    },
    {
     "data": {
      "image/png": "[encoded data removed]",
      "text/plain": [
       "<Figure size 1500x500 with 1 Axes>"
      ]
     },
     "metadata": {},
     "output_type": "display_data"
    },
    {
     "data": {
      "image/png": "[encoded data removed]",
      "text/plain": [
       "<Figure size 1500x500 with 1 Axes>"
      ]
     },
     "metadata": {},
     "output_type": "display_data"
    },
    {
     "data": {
      "image/png": "[encoded data removed]",
      "text/plain": [
       "<Figure size 1500x500 with 1 Axes>"
      ]
     },
     "metadata": {},
     "output_type": "display_data"
    },
    {
     "data": {
      "image/png": "[encoded data removed]",
      "text/plain": [
       "<Figure size 1500x500 with 1 Axes>"
      ]
     },
     "metadata": {},
     "output_type": "display_data"
    },
    {
     "data": {
      "image/png": "[encoded data removed]",
      "text/plain": [
       "<Figure size 1500x500 with 1 Axes>"
      ]
     },
     "metadata": {},
     "output_type": "display_data"
    },
    {
     "data": {
      "image/png": "[encoded data removed]",
      "text/plain": [
       "<Figure size 1500x500 with 1 Axes>"
      ]
     },
     "metadata": {},
     "output_type": "display_data"
    }
   ],
   "source": [
    "for col in train[categorical_var].columns:\n",
    "    if col != 'class':\n",
    "        plt.figure(figsize=(15,5,))\n",
    "        sns.histplot(data=train[[col,'class','count']].groupby([col,'class']).sum().reset_index(),\n",
    "                        x=col,\n",
    "                        weights='count',\n",
    "                        hue='class',\n",
    "                        multiple='stack',\n",
    "                        palette=palette,\n",
    "                        edgecolor='white',\n",
    "                        shrink=0.8\n",
    "                    );"
   ]
  },
  {
   "cell_type": "markdown",
   "id": "07617cf1",
   "metadata": {
    "papermill": {
     "duration": 0.02061,
     "end_time": "2024-08-08T16:12:50.965862",
     "exception": false,
     "start_time": "2024-08-08T16:12:50.945252",
     "status": "completed"
    },
    "tags": []
   },
   "source": [
    "# Data Prep"
   ]
  },
  {
   "cell_type": "code",
   "execution_count": 20,
   "id": "ec4341b5",
   "metadata": {
    "execution": {
     "iopub.execute_input": "2024-08-08T16:12:51.010689Z",
     "iopub.status.busy": "2024-08-08T16:12:51.009735Z",
     "iopub.status.idle": "2024-08-08T16:12:51.111881Z",
     "shell.execute_reply": "2024-08-08T16:12:51.110742Z"
    },
    "papermill": {
     "duration": 0.1278,
     "end_time": "2024-08-08T16:12:51.114826",
     "exception": false,
     "start_time": "2024-08-08T16:12:50.987026",
     "status": "completed"
    },
    "tags": []
   },
   "outputs": [],
   "source": [
    "# Replace missing continous var with the respective mean value\n",
    "train['cap-diameter'] = train['cap-diameter'].replace(np.nan,train['cap-diameter'].mean())\n",
    "train['stem-height'] = train['stem-height'].replace(np.nan,train['stem-height'].mean())\n",
    "\n",
    "test['cap-diameter'] = test['cap-diameter'].replace(np.nan,test['cap-diameter'].mean())\n",
    "test['stem-height'] = test['stem-height'].replace(np.nan,test['stem-height'].mean())\n"
   ]
  },
  {
   "cell_type": "code",
   "execution_count": 21,
   "id": "ff575e19",
   "metadata": {
    "execution": {
     "iopub.execute_input": "2024-08-08T16:12:51.159241Z",
     "iopub.status.busy": "2024-08-08T16:12:51.158334Z",
     "iopub.status.idle": "2024-08-08T16:13:07.899001Z",
     "shell.execute_reply": "2024-08-08T16:13:07.897843Z"
    },
    "papermill": {
     "duration": 16.766161,
     "end_time": "2024-08-08T16:13:07.901834",
     "exception": false,
     "start_time": "2024-08-08T16:12:51.135673",
     "status": "completed"
    },
    "tags": []
   },
   "outputs": [],
   "source": [
    "# Encode the categorical variables\n",
    "enc = LabelEncoder()\n",
    "\n",
    "for var in categorical_var:\n",
    "    train[var] = enc.fit_transform(train[var])\n",
    "\n",
    "    \n",
    "for var in categorical_var[1:]:\n",
    "    test[var] = enc.fit_transform(test[var])"
   ]
  },
  {
   "cell_type": "code",
   "execution_count": 22,
   "id": "aa785cc5",
   "metadata": {
    "execution": {
     "iopub.execute_input": "2024-08-08T16:13:07.947042Z",
     "iopub.status.busy": "2024-08-08T16:13:07.946603Z",
     "iopub.status.idle": "2024-08-08T16:13:08.088188Z",
     "shell.execute_reply": "2024-08-08T16:13:08.087083Z"
    },
    "papermill": {
     "duration": 0.167399,
     "end_time": "2024-08-08T16:13:08.091046",
     "exception": false,
     "start_time": "2024-08-08T16:13:07.923647",
     "status": "completed"
    },
    "tags": []
   },
   "outputs": [],
   "source": [
    "# Crate independent and dependent varaibles\n",
    "X = train.drop(columns=['count','class'])\n",
    "y = train['class']"
   ]
  },
  {
   "cell_type": "code",
   "execution_count": 23,
   "id": "4749d07d",
   "metadata": {
    "execution": {
     "iopub.execute_input": "2024-08-08T16:13:08.136366Z",
     "iopub.status.busy": "2024-08-08T16:13:08.135967Z",
     "iopub.status.idle": "2024-08-08T16:13:09.384381Z",
     "shell.execute_reply": "2024-08-08T16:13:09.383276Z"
    },
    "papermill": {
     "duration": 1.274124,
     "end_time": "2024-08-08T16:13:09.387042",
     "exception": false,
     "start_time": "2024-08-08T16:13:08.112918",
     "status": "completed"
    },
    "tags": []
   },
   "outputs": [],
   "source": [
    "# Split the data into training and testing set\n",
    "X_train, X_test, y_train, y_test = train_test_split(X, y, random_state=0)"
   ]
  },
  {
   "cell_type": "markdown",
   "id": "92bb586c",
   "metadata": {
    "papermill": {
     "duration": 0.021459,
     "end_time": "2024-08-08T16:13:09.430056",
     "exception": false,
     "start_time": "2024-08-08T16:13:09.408597",
     "status": "completed"
    },
    "tags": []
   },
   "source": [
    "# Random Forest (MCC: 0.982)"
   ]
  },
  {
   "cell_type": "code",
   "execution_count": 24,
   "id": "51296250",
   "metadata": {
    "execution": {
     "iopub.execute_input": "2024-08-08T16:13:09.477142Z",
     "iopub.status.busy": "2024-08-08T16:13:09.476236Z",
     "iopub.status.idle": "2024-08-08T16:13:09.481137Z",
     "shell.execute_reply": "2024-08-08T16:13:09.480076Z"
    },
    "papermill": {
     "duration": 0.031107,
     "end_time": "2024-08-08T16:13:09.483405",
     "exception": false,
     "start_time": "2024-08-08T16:13:09.452298",
     "status": "completed"
    },
    "tags": []
   },
   "outputs": [],
   "source": [
    "rf = RandomForestClassifier(random_state=0)"
   ]
  },
  {
   "cell_type": "code",
   "execution_count": 25,
   "id": "46e0e402",
   "metadata": {
    "execution": {
     "iopub.execute_input": "2024-08-08T16:13:09.529114Z",
     "iopub.status.busy": "2024-08-08T16:13:09.528717Z",
     "iopub.status.idle": "2024-08-08T16:27:53.890345Z",
     "shell.execute_reply": "2024-08-08T16:27:53.889263Z"
    },
    "papermill": {
     "duration": 884.410028,
     "end_time": "2024-08-08T16:27:53.915331",
     "exception": false,
     "start_time": "2024-08-08T16:13:09.505303",
     "status": "completed"
    },
    "tags": []
   },
   "outputs": [
    {
     "data": {
      "text/html": [
       "<style>#sk-container-id-1 {color: black;background-color: white;}#sk-container-id-1 pre{padding: 0;}#sk-container-id-1 div.sk-toggleable {background-color: white;}#sk-container-id-1 label.sk-toggleable__label {cursor: pointer;display: block;width: 100%;margin-bottom: 0;padding: 0.3em;box-sizing: border-box;text-align: center;}#sk-container-id-1 label.sk-toggleable__label-arrow:before {content: \"▸\";float: left;margin-right: 0.25em;color: #696969;}#sk-container-id-1 label.sk-toggleable__label-arrow:hover:before {color: black;}#sk-container-id-1 div.sk-estimator:hover label.sk-toggleable__label-arrow:before {color: black;}#sk-container-id-1 div.sk-toggleable__content {max-height: 0;max-width: 0;overflow: hidden;text-align: left;background-color: #f0f8ff;}#sk-container-id-1 div.sk-toggleable__content pre {margin: 0.2em;color: black;border-radius: 0.25em;background-color: #f0f8ff;}#sk-container-id-1 input.sk-toggleable__control:checked~div.sk-toggleable__content {max-height: 200px;max-width: 100%;overflow: auto;}#sk-container-id-1 input.sk-toggleable__control:checked~label.sk-toggleable__label-arrow:before {content: \"▾\";}#sk-container-id-1 div.sk-estimator input.sk-toggleable__control:checked~label.sk-toggleable__label {background-color: #d4ebff;}#sk-container-id-1 div.sk-label input.sk-toggleable__control:checked~label.sk-toggleable__label {background-color: #d4ebff;}#sk-container-id-1 input.sk-hidden--visually {border: 0;clip: rect(1px 1px 1px 1px);clip: rect(1px, 1px, 1px, 1px);height: 1px;margin: -1px;overflow: hidden;padding: 0;position: absolute;width: 1px;}#sk-container-id-1 div.sk-estimator {font-family: monospace;background-color: #f0f8ff;border: 1px dotted black;border-radius: 0.25em;box-sizing: border-box;margin-bottom: 0.5em;}#sk-container-id-1 div.sk-estimator:hover {background-color: #d4ebff;}#sk-container-id-1 div.sk-parallel-item::after {content: \"\";width: 100%;border-bottom: 1px solid gray;flex-grow: 1;}#sk-container-id-1 div.sk-label:hover label.sk-toggleable__label {background-color: #d4ebff;}#sk-container-id-1 div.sk-serial::before {content: \"\";position: absolute;border-left: 1px solid gray;box-sizing: border-box;top: 0;bottom: 0;left: 50%;z-index: 0;}#sk-container-id-1 div.sk-serial {display: flex;flex-direction: column;align-items: center;background-color: white;padding-right: 0.2em;padding-left: 0.2em;position: relative;}#sk-container-id-1 div.sk-item {position: relative;z-index: 1;}#sk-container-id-1 div.sk-parallel {display: flex;align-items: stretch;justify-content: center;background-color: white;position: relative;}#sk-container-id-1 div.sk-item::before, #sk-container-id-1 div.sk-parallel-item::before {content: \"\";position: absolute;border-left: 1px solid gray;box-sizing: border-box;top: 0;bottom: 0;left: 50%;z-index: -1;}#sk-container-id-1 div.sk-parallel-item {display: flex;flex-direction: column;z-index: 1;position: relative;background-color: white;}#sk-container-id-1 div.sk-parallel-item:first-child::after {align-self: flex-end;width: 50%;}#sk-container-id-1 div.sk-parallel-item:last-child::after {align-self: flex-start;width: 50%;}#sk-container-id-1 div.sk-parallel-item:only-child::after {width: 0;}#sk-container-id-1 div.sk-dashed-wrapped {border: 1px dashed gray;margin: 0 0.4em 0.5em 0.4em;box-sizing: border-box;padding-bottom: 0.4em;background-color: white;}#sk-container-id-1 div.sk-label label {font-family: monospace;font-weight: bold;display: inline-block;line-height: 1.2em;}#sk-container-id-1 div.sk-label-container {text-align: center;}#sk-container-id-1 div.sk-container {/* jupyter's `normalize.less` sets `[hidden] { display: none; }` but bootstrap.min.css set `[hidden] { display: none !important; }` so we also need the `!important` here to be able to override the default hidden behavior on the sphinx rendered scikit-learn.org. See: https://github.com/scikit-learn/scikit-learn/issues/21755 */display: inline-block !important;position: relative;}#sk-container-id-1 div.sk-text-repr-fallback {display: none;}</style><div id=\"sk-container-id-1\" class=\"sk-top-container\"><div class=\"sk-text-repr-fallback\"><pre>RandomForestClassifier(random_state=0)</pre><b>In a Jupyter environment, please rerun this cell to show the HTML representation or trust the notebook. <br />On GitHub, the HTML representation is unable to render, please try loading this page with nbviewer.org.</b></div><div class=\"sk-container\" hidden><div class=\"sk-item\"><div class=\"sk-estimator sk-toggleable\"><input class=\"sk-toggleable__control sk-hidden--visually\" id=\"sk-estimator-id-1\" type=\"checkbox\" checked><label for=\"sk-estimator-id-1\" class=\"sk-toggleable__label sk-toggleable__label-arrow\">RandomForestClassifier</label><div class=\"sk-toggleable__content\"><pre>RandomForestClassifier(random_state=0)</pre></div></div></div></div></div>"
      ],
      "text/plain": [
       "RandomForestClassifier(random_state=0)"
      ]
     },
     "execution_count": 25,
     "metadata": {},
     "output_type": "execute_result"
    }
   ],
   "source": [
    "rf.fit(X_train, y_train)"
   ]
  },
  {
   "cell_type": "code",
   "execution_count": 26,
   "id": "e3d683b0",
   "metadata": {
    "execution": {
     "iopub.execute_input": "2024-08-08T16:27:53.962120Z",
     "iopub.status.busy": "2024-08-08T16:27:53.961407Z",
     "iopub.status.idle": "2024-08-08T16:28:24.598784Z",
     "shell.execute_reply": "2024-08-08T16:28:24.597820Z"
    },
    "papermill": {
     "duration": 30.664096,
     "end_time": "2024-08-08T16:28:24.601493",
     "exception": false,
     "start_time": "2024-08-08T16:27:53.937397",
     "status": "completed"
    },
    "tags": []
   },
   "outputs": [],
   "source": [
    "y_pred = rf.predict(X_test)"
   ]
  },
  {
   "cell_type": "code",
   "execution_count": 27,
   "id": "c909343d",
   "metadata": {
    "execution": {
     "iopub.execute_input": "2024-08-08T16:28:24.648222Z",
     "iopub.status.busy": "2024-08-08T16:28:24.647423Z",
     "iopub.status.idle": "2024-08-08T16:28:24.997094Z",
     "shell.execute_reply": "2024-08-08T16:28:24.995955Z"
    },
    "papermill": {
     "duration": 0.375825,
     "end_time": "2024-08-08T16:28:24.999668",
     "exception": false,
     "start_time": "2024-08-08T16:28:24.623843",
     "status": "completed"
    },
    "tags": []
   },
   "outputs": [
    {
     "data": {
      "text/plain": [
       "0.9827131941043411"
      ]
     },
     "execution_count": 27,
     "metadata": {},
     "output_type": "execute_result"
    }
   ],
   "source": [
    "matthews_corrcoef(y_test, y_pred)"
   ]
  },
  {
   "cell_type": "markdown",
   "id": "364ee7b1",
   "metadata": {
    "papermill": {
     "duration": 0.02225,
     "end_time": "2024-08-08T16:28:25.044958",
     "exception": false,
     "start_time": "2024-08-08T16:28:25.022708",
     "status": "completed"
    },
    "tags": []
   },
   "source": [
    "# Submission"
   ]
  },
  {
   "cell_type": "code",
   "execution_count": 28,
   "id": "9b0b8c31",
   "metadata": {
    "execution": {
     "iopub.execute_input": "2024-08-08T16:28:25.092281Z",
     "iopub.status.busy": "2024-08-08T16:28:25.091546Z",
     "iopub.status.idle": "2024-08-08T16:29:44.971620Z",
     "shell.execute_reply": "2024-08-08T16:29:44.970393Z"
    },
    "papermill": {
     "duration": 79.906978,
     "end_time": "2024-08-08T16:29:44.974529",
     "exception": false,
     "start_time": "2024-08-08T16:28:25.067551",
     "status": "completed"
    },
    "tags": []
   },
   "outputs": [],
   "source": [
    "y_pred = rf.predict(test)"
   ]
  },
  {
   "cell_type": "code",
   "execution_count": 29,
   "id": "f07fd53e",
   "metadata": {
    "execution": {
     "iopub.execute_input": "2024-08-08T16:29:45.022071Z",
     "iopub.status.busy": "2024-08-08T16:29:45.021230Z",
     "iopub.status.idle": "2024-08-08T16:29:45.041190Z",
     "shell.execute_reply": "2024-08-08T16:29:45.040268Z"
    },
    "papermill": {
     "duration": 0.046749,
     "end_time": "2024-08-08T16:29:45.043882",
     "exception": false,
     "start_time": "2024-08-08T16:29:44.997133",
     "status": "completed"
    },
    "tags": []
   },
   "outputs": [],
   "source": [
    "test_predictions = np.where(y_pred == 0, 'e', 'p')"
   ]
  },
  {
   "cell_type": "code",
   "execution_count": 30,
   "id": "a88c9a53",
   "metadata": {
    "execution": {
     "iopub.execute_input": "2024-08-08T16:29:45.090950Z",
     "iopub.status.busy": "2024-08-08T16:29:45.090446Z",
     "iopub.status.idle": "2024-08-08T16:29:45.189546Z",
     "shell.execute_reply": "2024-08-08T16:29:45.188555Z"
    },
    "papermill": {
     "duration": 0.125668,
     "end_time": "2024-08-08T16:29:45.192225",
     "exception": false,
     "start_time": "2024-08-08T16:29:45.066557",
     "status": "completed"
    },
    "tags": []
   },
   "outputs": [],
   "source": [
    "submission_df = pd.DataFrame({'id': test.index, \n",
    "                              'Target':test_predictions})"
   ]
  },
  {
   "cell_type": "code",
   "execution_count": 31,
   "id": "6f40c4b1",
   "metadata": {
    "execution": {
     "iopub.execute_input": "2024-08-08T16:29:45.238829Z",
     "iopub.status.busy": "2024-08-08T16:29:45.238459Z",
     "iopub.status.idle": "2024-08-08T16:29:48.151597Z",
     "shell.execute_reply": "2024-08-08T16:29:48.150759Z"
    },
    "papermill": {
     "duration": 2.939367,
     "end_time": "2024-08-08T16:29:48.154147",
     "exception": false,
     "start_time": "2024-08-08T16:29:45.214780",
     "status": "completed"
    },
    "tags": []
   },
   "outputs": [
    {
     "data": {
      "text/html": [
       "<div>\n",
       "<style scoped>\n",
       "    .dataframe tbody tr th:only-of-type {\n",
       "        vertical-align: middle;\n",
       "    }\n",
       "\n",
       "    .dataframe tbody tr th {\n",
       "        vertical-align: top;\n",
       "    }\n",
       "\n",
       "    .dataframe thead th {\n",
       "        text-align: right;\n",
       "    }\n",
       "</style>\n",
       "<table border=\"1\" class=\"dataframe\">\n",
       "  <thead>\n",
       "    <tr style=\"text-align: right;\">\n",
       "      <th></th>\n",
       "      <th>id</th>\n",
       "      <th>Target</th>\n",
       "    </tr>\n",
       "  </thead>\n",
       "  <tbody>\n",
       "    <tr>\n",
       "      <th>0</th>\n",
       "      <td>3116945</td>\n",
       "      <td>e</td>\n",
       "    </tr>\n",
       "    <tr>\n",
       "      <th>1</th>\n",
       "      <td>3116946</td>\n",
       "      <td>p</td>\n",
       "    </tr>\n",
       "    <tr>\n",
       "      <th>2</th>\n",
       "      <td>3116947</td>\n",
       "      <td>p</td>\n",
       "    </tr>\n",
       "    <tr>\n",
       "      <th>3</th>\n",
       "      <td>3116948</td>\n",
       "      <td>p</td>\n",
       "    </tr>\n",
       "    <tr>\n",
       "      <th>4</th>\n",
       "      <td>3116949</td>\n",
       "      <td>e</td>\n",
       "    </tr>\n",
       "  </tbody>\n",
       "</table>\n",
       "</div>"
      ],
      "text/plain": [
       "        id Target\n",
       "0  3116945      e\n",
       "1  3116946      p\n",
       "2  3116947      p\n",
       "3  3116948      p\n",
       "4  3116949      e"
      ]
     },
     "execution_count": 31,
     "metadata": {},
     "output_type": "execute_result"
    }
   ],
   "source": [
    "submission_df.to_csv('submission.csv', index=False)\n",
    "submission_df.head()"
   ]
  }
 ],
 "metadata": {
  "kaggle": {
   "accelerator": "none",
   "dataSources": [
    {
     "databundleVersionId": 9045607,
     "sourceId": 76727,
     "sourceType": "competition"
    }
   ],
   "dockerImageVersionId": 30746,
   "isGpuEnabled": false,
   "isInternetEnabled": true,
   "language": "python",
   "sourceType": "notebook"
  },
  "kernelspec": {
   "display_name": "Python 3",
   "language": "python",
   "name": "python3"
  },
  "language_info": {
   "codemirror_mode": {
    "name": "ipython",
    "version": 3
   },
   "file_extension": ".py",
   "mimetype": "text/x-python",
   "name": "python",
   "nbconvert_exporter": "python",
   "pygments_lexer": "ipython3",
   "version": "3.10.13"
  },
  "papermill": {
   "default_parameters": {},
   "duration": 1159.106106,
   "end_time": "2024-08-08T16:29:49.306967",
   "environment_variables": {},
   "exception": null,
   "input_path": "__notebook__.ipynb",
   "output_path": "__notebook__.ipynb",
   "parameters": {},
   "start_time": "2024-08-08T16:10:30.200861",
   "version": "2.5.0"
  }
 },
 "nbformat": 4,
 "nbformat_minor": 5
}
